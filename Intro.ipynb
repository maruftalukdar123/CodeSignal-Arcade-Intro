{
 "cells": [
  {
   "cell_type": "markdown",
   "id": "bb9659a4",
   "metadata": {},
   "source": [
    "# The Journey Begins"
   ]
  },
  {
   "cell_type": "markdown",
   "id": "d8e92d55",
   "metadata": {},
   "source": [
    "## Add"
   ]
  },
  {
   "cell_type": "code",
   "execution_count": 1,
   "id": "fa31da57",
   "metadata": {},
   "outputs": [
    {
     "data": {
      "text/plain": [
       "25"
      ]
     },
     "execution_count": 1,
     "metadata": {},
     "output_type": "execute_result"
    }
   ],
   "source": [
    "def solution(param1, param2):\n",
    "    return param1+param2\n",
    "\n",
    "solution(10,15)"
   ]
  },
  {
   "cell_type": "markdown",
   "id": "c3002694",
   "metadata": {},
   "source": [
    "## Century From Year"
   ]
  },
  {
   "cell_type": "code",
   "execution_count": 2,
   "id": "00e19956",
   "metadata": {},
   "outputs": [
    {
     "data": {
      "text/plain": [
       "20.0"
      ]
     },
     "execution_count": 2,
     "metadata": {},
     "output_type": "execute_result"
    }
   ],
   "source": [
    "import numpy as np\n",
    "def solution(year):\n",
    "    return np.ceil(year/100)\n",
    "\n",
    "solution(1902)"
   ]
  },
  {
   "cell_type": "markdown",
   "id": "a1b5cf7f",
   "metadata": {},
   "source": [
    "## Check Palindrome"
   ]
  },
  {
   "cell_type": "code",
   "execution_count": 5,
   "id": "d232b2c3",
   "metadata": {},
   "outputs": [
    {
     "data": {
      "text/plain": [
       "True"
      ]
     },
     "execution_count": 5,
     "metadata": {},
     "output_type": "execute_result"
    }
   ],
   "source": [
    "def solution(inputString):\n",
    "    \n",
    "    # make new array starting from the last character of the input\n",
    "    # join the array to create reversed string\n",
    "    # check if the reversed string == input\n",
    "    \n",
    "    reverse = []\n",
    "    s=''\n",
    "    for i in range(len(inputString)):\n",
    "        n = i+1\n",
    "        reverse.append(inputString[-n])\n",
    "    \n",
    "    return s.join(reverse) == inputString\n",
    "\n",
    "solution('mamam')"
   ]
  },
  {
   "cell_type": "markdown",
   "id": "ea7d09e4",
   "metadata": {},
   "source": [
    "# Edge Of The Ocean"
   ]
  },
  {
   "cell_type": "markdown",
   "id": "6a9e9530",
   "metadata": {},
   "source": [
    "## Adjacent Elements Product\n"
   ]
  },
  {
   "cell_type": "code",
   "execution_count": 8,
   "id": "ba214a16",
   "metadata": {},
   "outputs": [
    {
     "data": {
      "text/plain": [
       "21"
      ]
     },
     "execution_count": 8,
     "metadata": {},
     "output_type": "execute_result"
    }
   ],
   "source": [
    "def solution(inputArray):\n",
    "    \n",
    "    # create empty array that will store all the products\n",
    "    # append products of all two sets of numbers\n",
    "    # return the maximum value\n",
    "    \n",
    "    products = []\n",
    "    \n",
    "    for i,number in enumerate(inputArray):\n",
    "        if i+1<len(inputArray):\n",
    "            products.append(inputArray[i]*inputArray[i+1])\n",
    "    return max(products)\n",
    "\n",
    "\n",
    "inputArray = [3, 6, -2, -5, 7, 3]\n",
    "solution(inputArray)"
   ]
  },
  {
   "cell_type": "markdown",
   "id": "4c15596b",
   "metadata": {},
   "source": [
    "## Shape Area"
   ]
  },
  {
   "cell_type": "code",
   "execution_count": 11,
   "id": "a67ccaee",
   "metadata": {},
   "outputs": [
    {
     "data": {
      "text/plain": [
       "13"
      ]
     },
     "execution_count": 11,
     "metadata": {},
     "output_type": "execute_result"
    }
   ],
   "source": [
    "def solution(n):\n",
    "    \n",
    "    # Just a quadratic sequence\n",
    "    \n",
    "    return (2*n**2) - (2*n) + 1\n",
    "\n",
    "solution(3)"
   ]
  },
  {
   "cell_type": "markdown",
   "id": "3d1597d6",
   "metadata": {},
   "source": [
    "## Make Array Consecutive 2"
   ]
  },
  {
   "cell_type": "code",
   "execution_count": 13,
   "id": "06f958cd",
   "metadata": {},
   "outputs": [
    {
     "data": {
      "text/plain": [
       "3"
      ]
     },
     "execution_count": 13,
     "metadata": {},
     "output_type": "execute_result"
    }
   ],
   "source": [
    "def solution(statues):\n",
    "    \n",
    "    # Sort all the statues,\n",
    "    # For each pair, subtract the second number with the first number,\n",
    "    # This will give you how many statues are still needed\n",
    "    # If 1, then they are consecutive\n",
    "    # Find how many are not 1, then return the sum\n",
    "    \n",
    "    statues.sort()\n",
    "    m = [statues[i+1]-statues[i] for i in range(len(statues)-1)]\n",
    "    return sum(m)-len(statues)+1\n",
    "\n",
    "\n",
    "statues = [6, 2, 3, 8]\n",
    "solution(statues)"
   ]
  },
  {
   "cell_type": "markdown",
   "id": "a4b4d01e",
   "metadata": {},
   "source": [
    "## Almost Increasing Sequence"
   ]
  },
  {
   "cell_type": "code",
   "execution_count": 14,
   "id": "44b7a259",
   "metadata": {},
   "outputs": [
    {
     "data": {
      "text/plain": [
       "False"
      ]
     },
     "execution_count": 14,
     "metadata": {},
     "output_type": "execute_result"
    }
   ],
   "source": [
    "def solution(sequence):\n",
    "    fails1 = 0\n",
    "    fails2 = 0\n",
    "    \n",
    "    for i in range(len(sequence)-1):\n",
    "            if sequence[i] >= sequence[i+1]:\n",
    "                fails1 = fails1 + 1\n",
    "                \n",
    "    for i in range(len(sequence)-2):\n",
    "            if sequence[i] >= sequence[i+2]:\n",
    "                fails2 = fails2 + 1\n",
    "                \n",
    "    if (fails1 < 2) and (fails2 < 2):\n",
    "                \n",
    "        return True\n",
    "    else:\n",
    "        return False \n",
    "    \n",
    "sequence = [1, 3, 2, 1]\n",
    "solution(sequence)"
   ]
  }
 ],
 "metadata": {
  "kernelspec": {
   "display_name": "Python 3 (ipykernel)",
   "language": "python",
   "name": "python3"
  },
  "language_info": {
   "codemirror_mode": {
    "name": "ipython",
    "version": 3
   },
   "file_extension": ".py",
   "mimetype": "text/x-python",
   "name": "python",
   "nbconvert_exporter": "python",
   "pygments_lexer": "ipython3",
   "version": "3.9.12"
  }
 },
 "nbformat": 4,
 "nbformat_minor": 5
}
