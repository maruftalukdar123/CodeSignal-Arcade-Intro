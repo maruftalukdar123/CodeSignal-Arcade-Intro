{
 "cells": [
  {
   "cell_type": "code",
   "execution_count": 1,
   "id": "28dbe08e",
   "metadata": {},
   "outputs": [
    {
     "data": {
      "text/plain": [
       "False"
      ]
     },
     "execution_count": 1,
     "metadata": {},
     "output_type": "execute_result"
    }
   ],
   "source": [
    "def solution(sequence):\n",
    "    m=[]\n",
    "    for i in range(len(sequence)-1):\n",
    "        if sequence[i+1]-sequence[i]<=0:\n",
    "            for x in range(len(sequence)-i-1):\n",
    "                if sequence[i]-sequence[x+i+1]>=0:\n",
    "                    m.append(sequence[i]-sequence[x+i+1])\n",
    "\n",
    "        if len(m)<2:\n",
    "            pass\n",
    "        else:\n",
    "            return False\n",
    "        \n",
    "    return True\n",
    "   \n",
    "\n",
    "sequence = [1, 3, 2, 1]\n",
    "solution(sequence)"
   ]
  },
  {
   "cell_type": "code",
   "execution_count": 135,
   "id": "a49d4c3f",
   "metadata": {},
   "outputs": [
    {
     "data": {
      "text/plain": [
       "True"
      ]
     },
     "execution_count": 135,
     "metadata": {},
     "output_type": "execute_result"
    }
   ],
   "source": [
    "def solution(sequence):\n",
    "    \n",
    "    for i in range(1,len(sequence)):\n",
    "        if sequence[i]<sequence[i-1] or sequence[i]==sequence[i-1]:\n",
    "\n",
    "            for j in range(i+1,len(sequence)):\n",
    "                if any([sequence[j]<sequence[k] or sequence[j]==sequence[k] for k in range(len(sequence))]):\n",
    "                    return False\n",
    "                \n",
    "    return True\n",
    "            \n",
    "    \n",
    "sequence = [10, 1, 2, 3, 4, 5]\n",
    "solution(sequence)"
   ]
  },
  {
   "cell_type": "code",
   "execution_count": 123,
   "id": "c7acc84e",
   "metadata": {},
   "outputs": [
    {
     "name": "stdout",
     "output_type": "stream",
     "text": [
      "False\n",
      "True\n"
     ]
    }
   ],
   "source": [
    "x=[1,2,3,4,5,6]\n",
    "\n",
    "smaller = any([4<x[i] for i in range(len(x))])\n",
    "print(smaller)"
   ]
  },
  {
   "cell_type": "code",
   "execution_count": null,
   "id": "57de65c3",
   "metadata": {},
   "outputs": [],
   "source": []
  }
 ],
 "metadata": {
  "kernelspec": {
   "display_name": "Python 3 (ipykernel)",
   "language": "python",
   "name": "python3"
  },
  "language_info": {
   "codemirror_mode": {
    "name": "ipython",
    "version": 3
   },
   "file_extension": ".py",
   "mimetype": "text/x-python",
   "name": "python",
   "nbconvert_exporter": "python",
   "pygments_lexer": "ipython3",
   "version": "3.9.12"
  }
 },
 "nbformat": 4,
 "nbformat_minor": 5
}
