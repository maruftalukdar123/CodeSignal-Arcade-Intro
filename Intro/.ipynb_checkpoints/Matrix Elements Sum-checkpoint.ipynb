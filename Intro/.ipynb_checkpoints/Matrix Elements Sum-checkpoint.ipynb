{
 "cells": [
  {
   "cell_type": "code",
   "execution_count": 5,
   "id": "f2353530",
   "metadata": {},
   "outputs": [
    {
     "data": {
      "text/plain": [
       "9"
      ]
     },
     "execution_count": 5,
     "metadata": {},
     "output_type": "execute_result"
    }
   ],
   "source": [
    "def solution(matrix):\n",
    "\n",
    "  # Find the total of all numbers\n",
    "  # Find the total of all numbers below zero\n",
    "  # Subtract the two integers\n",
    "\n",
    "  total = sum([sum(matrix[i]) for i in range(len(matrix))])\n",
    "  to_sub = []\n",
    "\n",
    "  for i,row in enumerate(matrix):\n",
    "    for j,el in enumerate(row):\n",
    "        if el==0 and i+1<(len(matrix)):\n",
    "            to_sub.append(matrix[i+1][j])\n",
    "\n",
    "  total_sub = sum(to_sub)\n",
    "\n",
    "  return total - total_sub\n",
    "\n",
    "\n",
    "# matrix=[[1,1,1,0], \n",
    "#         [0,5,0,1], \n",
    "#         [2,1,3,10]]\n",
    "\n",
    "matrix = [[0, 1, 1, 2], \n",
    "          [0, 5, 0, 0], \n",
    "          [2, 0, 3, 3]]\n",
    "\n",
    "solution(matrix)"
   ]
  },
  {
   "cell_type": "code",
   "execution_count": 3,
   "id": "b0fd5f43",
   "metadata": {},
   "outputs": [
    {
     "name": "stdout",
     "output_type": "stream",
     "text": [
      "17 [0, 2, 2, 3, 3]\n"
     ]
    },
    {
     "data": {
      "text/plain": [
       "7"
      ]
     },
     "execution_count": 3,
     "metadata": {},
     "output_type": "execute_result"
    }
   ],
   "source": [
    "def solution(matrix):\n",
    "\n",
    "  # Find the total of all numbers\n",
    "  # Find the total of all numbers below zero\n",
    "  # Subtract the two integers\n",
    "\n",
    "  # problem with above solution is that, it only appends the number immedietly below 0, as opposed to all numbers below 0\n",
    "\n",
    "  total = sum([sum(matrix[i]) for i in range(len(matrix))])\n",
    "  to_sub = []\n",
    "\n",
    "  for i,row in enumerate(matrix):\n",
    "    for j,el in enumerate(row):\n",
    "      if el==0 and i+1<(len(matrix)):\n",
    "        for k in range(len(matrix[i+1:])):\n",
    "          to_sub.append(matrix[i+1:][k][j])\n",
    "\n",
    "  total_sub = sum(to_sub)\n",
    "  \n",
    "  print(total,to_sub)\n",
    "\n",
    "  return total - total_sub\n",
    "\n",
    "# matrix=[[1,1,1,0], \n",
    "#         [0,5,0,1], \n",
    "#         [2,1,3,10]]\n",
    "\n",
    "matrix = [[0, 1, 1, 2], \n",
    "          [0, 5, 0, 0], \n",
    "          [2, 0, 3, 3]]\n",
    "\n",
    "solution(matrix)"
   ]
  },
  {
   "cell_type": "code",
   "execution_count": 4,
   "id": "9db8be8a",
   "metadata": {},
   "outputs": [
    {
     "data": {
      "text/plain": [
       "9"
      ]
     },
     "execution_count": 4,
     "metadata": {},
     "output_type": "execute_result"
    }
   ],
   "source": [
    "def solution(matrix):\n",
    "\n",
    "  # Find the total of all numbers\n",
    "  # Find the total of all numbers below zero\n",
    "  # Subtract the two integers\n",
    "\n",
    "  # problem with above solution is that, if there is a 0 below a 0, then the same number is subtracted twice\n",
    "\n",
    "\n",
    "  total = sum([sum(matrix[i]) for i in range(len(matrix))])\n",
    "  to_sub = []\n",
    "\n",
    "  for i,row in enumerate(matrix):\n",
    "    for j,el in enumerate(row):\n",
    "      if el==0 and i+1<(len(matrix)):\n",
    "\n",
    "        if matrix[i+1][j] != 0:\n",
    "          for k in range(len(matrix[i+1:])):\n",
    "            to_sub.append(matrix[i+1:][k][j])\n",
    "\n",
    "  total_sub = sum(to_sub)\n",
    "\n",
    "  return total - total_sub\n",
    "\n",
    "# matrix=[[1,1,1,0], \n",
    "#         [0,5,0,1], \n",
    "#         [2,1,3,10]]\n",
    "\n",
    "matrix = [[0, 1, 1, 2], \n",
    "          [0, 5, 0, 0], \n",
    "          [2, 0, 3, 3]]\n",
    "\n",
    "solution(matrix)"
   ]
  },
  {
   "cell_type": "code",
   "execution_count": 11,
   "id": "55f1c574",
   "metadata": {},
   "outputs": [
    {
     "name": "stdout",
     "output_type": "stream",
     "text": [
      "[7, 9, 1, 2]\n"
     ]
    },
    {
     "data": {
      "text/plain": [
       "15"
      ]
     },
     "execution_count": 11,
     "metadata": {},
     "output_type": "execute_result"
    }
   ],
   "source": [
    "def solution(matrix):\n",
    "\n",
    "    # Find the total of all numbers\n",
    "    # Find the total of all numbers below zero\n",
    "    # Subtract the two integers\n",
    "\n",
    "    # problem with above solution is that, if there is a 0 below a 0 (not necessarily consecutive),\n",
    "    # then the same number is subtracted twice\n",
    "\n",
    "\n",
    "    total = sum([sum(matrix[i]) for i in range(len(matrix))])\n",
    "    to_sub = []\n",
    "    \n",
    "    # go through each row in the matrix\n",
    "    # and each element of each row\n",
    "    # if any element is 0\n",
    "    # then append to 'to_sub' all elements below that 0\n",
    "    # until another 0 in that coloumn\n",
    "\n",
    "    for i,row in enumerate(matrix):\n",
    "        for j,el in enumerate(row):\n",
    "            if el==0 and i+1<(len(matrix)):\n",
    "                for k in range(i+1,len(matrix)):\n",
    "                    if matrix[k][j]!=0:\n",
    "                        to_sub.append(matrix[k][j])\n",
    "                    else:\n",
    "                        break\n",
    "    print(to_sub)\n",
    "    total_sub = sum(to_sub)\n",
    "\n",
    "    return total - total_sub\n",
    "\n",
    "\n",
    "\n",
    "matrix= [[4,0,1], \n",
    "         [10,7,0], \n",
    "         [0,0,0], \n",
    "         [9,1,2]]\n",
    "solution(matrix)"
   ]
  },
  {
   "cell_type": "code",
   "execution_count": 58,
   "id": "5802345b",
   "metadata": {},
   "outputs": [
    {
     "ename": "InvalidArgumentError",
     "evalue": "slice index 12 of dimension 0 out of bounds. [Op:StridedSlice] name: strided_slice/",
     "output_type": "error",
     "traceback": [
      "\u001b[1;31m---------------------------------------------------------------------------\u001b[0m",
      "\u001b[1;31mInvalidArgumentError\u001b[0m                      Traceback (most recent call last)",
      "Input \u001b[1;32mIn [58]\u001b[0m, in \u001b[0;36m<cell line: 21>\u001b[1;34m()\u001b[0m\n\u001b[0;32m     15\u001b[0m                 k\u001b[38;5;241m+\u001b[39m\u001b[38;5;241m=\u001b[39mc\n\u001b[0;32m     17\u001b[0m matrix\u001b[38;5;241m=\u001b[39m [[\u001b[38;5;241m4\u001b[39m,\u001b[38;5;241m0\u001b[39m,\u001b[38;5;241m1\u001b[39m], \n\u001b[0;32m     18\u001b[0m          [\u001b[38;5;241m10\u001b[39m,\u001b[38;5;241m7\u001b[39m,\u001b[38;5;241m0\u001b[39m], \n\u001b[0;32m     19\u001b[0m          [\u001b[38;5;241m0\u001b[39m,\u001b[38;5;241m0\u001b[39m,\u001b[38;5;241m0\u001b[39m], \n\u001b[0;32m     20\u001b[0m          [\u001b[38;5;241m9\u001b[39m,\u001b[38;5;241m1\u001b[39m,\u001b[38;5;241m2\u001b[39m]]\n\u001b[1;32m---> 21\u001b[0m \u001b[43msolution\u001b[49m\u001b[43m(\u001b[49m\u001b[43mmatrix\u001b[49m\u001b[43m)\u001b[49m\n",
      "Input \u001b[1;32mIn [58]\u001b[0m, in \u001b[0;36msolution\u001b[1;34m(matrix)\u001b[0m\n\u001b[0;32m     11\u001b[0m \u001b[38;5;28;01mif\u001b[39;00m el\u001b[38;5;241m==\u001b[39m\u001b[38;5;241m0\u001b[39m:\n\u001b[0;32m     12\u001b[0m     k\u001b[38;5;241m=\u001b[39m\u001b[38;5;241m0\u001b[39m\n\u001b[1;32m---> 13\u001b[0m     \u001b[38;5;28;01mwhile\u001b[39;00m \u001b[43mnew_matrix\u001b[49m\u001b[43m[\u001b[49m\u001b[43mi\u001b[49m\u001b[38;5;241;43m+\u001b[39;49m\u001b[43mc\u001b[49m\u001b[38;5;241;43m+\u001b[39;49m\u001b[43mk\u001b[49m\u001b[43m]\u001b[49m\u001b[38;5;241m!=\u001b[39m\u001b[38;5;241m0\u001b[39m:\n\u001b[0;32m     14\u001b[0m         to_sub\u001b[38;5;241m.\u001b[39mappend(new_matrix[i\u001b[38;5;241m+\u001b[39mc\u001b[38;5;241m+\u001b[39mk])\n\u001b[0;32m     15\u001b[0m         k\u001b[38;5;241m+\u001b[39m\u001b[38;5;241m=\u001b[39mc\n",
      "File \u001b[1;32m~\\Anaconda3\\lib\\site-packages\\tensorflow\\python\\util\\traceback_utils.py:153\u001b[0m, in \u001b[0;36mfilter_traceback.<locals>.error_handler\u001b[1;34m(*args, **kwargs)\u001b[0m\n\u001b[0;32m    151\u001b[0m \u001b[38;5;28;01mexcept\u001b[39;00m \u001b[38;5;167;01mException\u001b[39;00m \u001b[38;5;28;01mas\u001b[39;00m e:\n\u001b[0;32m    152\u001b[0m   filtered_tb \u001b[38;5;241m=\u001b[39m _process_traceback_frames(e\u001b[38;5;241m.\u001b[39m__traceback__)\n\u001b[1;32m--> 153\u001b[0m   \u001b[38;5;28;01mraise\u001b[39;00m e\u001b[38;5;241m.\u001b[39mwith_traceback(filtered_tb) \u001b[38;5;28;01mfrom\u001b[39;00m \u001b[38;5;28mNone\u001b[39m\n\u001b[0;32m    154\u001b[0m \u001b[38;5;28;01mfinally\u001b[39;00m:\n\u001b[0;32m    155\u001b[0m   \u001b[38;5;28;01mdel\u001b[39;00m filtered_tb\n",
      "File \u001b[1;32m~\\Anaconda3\\lib\\site-packages\\tensorflow\\python\\framework\\ops.py:7164\u001b[0m, in \u001b[0;36mraise_from_not_ok_status\u001b[1;34m(e, name)\u001b[0m\n\u001b[0;32m   7162\u001b[0m \u001b[38;5;28;01mdef\u001b[39;00m \u001b[38;5;21mraise_from_not_ok_status\u001b[39m(e, name):\n\u001b[0;32m   7163\u001b[0m   e\u001b[38;5;241m.\u001b[39mmessage \u001b[38;5;241m+\u001b[39m\u001b[38;5;241m=\u001b[39m (\u001b[38;5;124m\"\u001b[39m\u001b[38;5;124m name: \u001b[39m\u001b[38;5;124m\"\u001b[39m \u001b[38;5;241m+\u001b[39m name \u001b[38;5;28;01mif\u001b[39;00m name \u001b[38;5;129;01mis\u001b[39;00m \u001b[38;5;129;01mnot\u001b[39;00m \u001b[38;5;28;01mNone\u001b[39;00m \u001b[38;5;28;01melse\u001b[39;00m \u001b[38;5;124m\"\u001b[39m\u001b[38;5;124m\"\u001b[39m)\n\u001b[1;32m-> 7164\u001b[0m   \u001b[38;5;28;01mraise\u001b[39;00m core\u001b[38;5;241m.\u001b[39m_status_to_exception(e) \u001b[38;5;28;01mfrom\u001b[39;00m \u001b[38;5;28mNone\u001b[39m\n",
      "\u001b[1;31mInvalidArgumentError\u001b[0m: slice index 12 of dimension 0 out of bounds. [Op:StridedSlice] name: strided_slice/"
     ]
    }
   ],
   "source": [
    "import tensorflow as tf\n",
    "def solution(matrix):\n",
    "    matrix = tf.constant(matrix)\n",
    "    r,c = len(matrix),len(matrix[0])\n",
    "    new_matrix = tf.reshape(matrix,(r*c,))\n",
    "    total = sum(new_matrix)\n",
    "    to_sub = []\n",
    "\n",
    "    \n",
    "    for i,el in enumerate(new_matrix):\n",
    "        if el==0:\n",
    "            k=0\n",
    "            while new_matrix[i+c+k]!=0:\n",
    "                to_sub.append(new_matrix[i+c+k])\n",
    "                k+=c\n",
    "\n",
    "matrix= [[4,0,1], \n",
    "         [10,7,0], \n",
    "         [0,0,0], \n",
    "         [9,1,2]]\n",
    "solution(matrix)"
   ]
  },
  {
   "cell_type": "code",
   "execution_count": null,
   "id": "613897ed",
   "metadata": {},
   "outputs": [],
   "source": []
  }
 ],
 "metadata": {
  "kernelspec": {
   "display_name": "Python 3 (ipykernel)",
   "language": "python",
   "name": "python3"
  },
  "language_info": {
   "codemirror_mode": {
    "name": "ipython",
    "version": 3
   },
   "file_extension": ".py",
   "mimetype": "text/x-python",
   "name": "python",
   "nbconvert_exporter": "python",
   "pygments_lexer": "ipython3",
   "version": "3.9.12"
  }
 },
 "nbformat": 4,
 "nbformat_minor": 5
}
