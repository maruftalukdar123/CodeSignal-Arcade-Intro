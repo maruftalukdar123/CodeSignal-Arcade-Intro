{
 "cells": [
  {
   "cell_type": "markdown",
   "id": "851b02c9",
   "metadata": {},
   "source": [
    "# CodeSignal-Arcade-Intro #\n",
    "Going through the 'Intro' world in arcade mode on CodeSignal. Below is a description of all the puzzles I completed."
   ]
  },
  {
   "cell_type": "markdown",
   "id": "c29d5530",
   "metadata": {},
   "source": [
    "## 'The Journey Begins' ##\n",
    "---\n",
    "### Add ###\n",
    "Add two numbers\n",
    "### Century From Year\n",
    "Given a year, return the century it is in. For example, if year is 1907, then it is the 20th century.\n",
    "### Check Palindrome\n",
    "Given a string, check if it reads the same backwards and forwards, ignoring capitals and spaces. For example, Abba is read Abba backwards and is therefore a plindrome."
   ]
  },
  {
   "cell_type": "markdown",
   "id": "a91a908b",
   "metadata": {},
   "source": [
    "## 'Edge of the Ocean'\n",
    "---\n",
    "### Adjacent Elements Product\n",
    "Given an array of integers, find the pair of adjacent elements that has the largest product and return that product. For eample,\n",
    "\n",
    "`inputArray = [3, 6, -2, -5, 7, 3]`, the output should be `solution(inputArray) = 21.`\n",
    "\n",
    "7 and 3 produce the largest product.\n",
    "\n",
    "### Shape Area\n",
    "A 1-interesting polygon is just a square with a side of length 1. An n-interesting polygon is obtained by taking the n - 1-interesting polygon and appending 1-interesting polygons to its rim, side by side. Find the area of a polygon for a given n.\n",
    "### Make Array Consecutive 2\n",
    "Arrange array from smallest to larges, then find out how many more numbers is needed to make each entry of the array one bigger then the previous entry. For example:\n",
    "`statues = [6, 2, 3, 8]`, the output should be `solution(statues) = 3`.\n",
    "\n",
    "statues of sizes 4, 5 and 7 are missing.\n",
    "\n",
    "### Almost Increasing Sequence\n",
    "Given a sequence of integers as an array, determine whether it is possible to obtain a strictly increasing sequence by removing no more than one element from the array."
   ]
  },
  {
   "cell_type": "code",
   "execution_count": null,
   "id": "737d9491",
   "metadata": {},
   "outputs": [],
   "source": []
  }
 ],
 "metadata": {
  "kernelspec": {
   "display_name": "Python 3 (ipykernel)",
   "language": "python",
   "name": "python3"
  },
  "language_info": {
   "codemirror_mode": {
    "name": "ipython",
    "version": 3
   },
   "file_extension": ".py",
   "mimetype": "text/x-python",
   "name": "python",
   "nbconvert_exporter": "python",
   "pygments_lexer": "ipython3",
   "version": "3.9.12"
  }
 },
 "nbformat": 4,
 "nbformat_minor": 5
}
