{
  "nbformat": 4,
  "nbformat_minor": 0,
  "metadata": {
    "colab": {
      "provenance": [],
      "collapsed_sections": []
    },
    "kernelspec": {
      "name": "python3",
      "display_name": "Python 3"
    },
    "language_info": {
      "name": "python"
    }
  },
  "cells": [
    {
      "cell_type": "code",
      "execution_count": 56,
      "metadata": {
        "colab": {
          "base_uri": "https://localhost:8080/"
        },
        "id": "NSswbFZC28SE",
        "outputId": "664af72a-3a36-4349-d7d4-8c65d6ea6f64"
      },
      "outputs": [
        {
          "output_type": "execute_result",
          "data": {
            "text/plain": [
              "9"
            ]
          },
          "metadata": {},
          "execution_count": 56
        }
      ],
      "source": [
        "def solution(matrix):\n",
        "\n",
        "  # Find the total of all numbers\n",
        "  # Find the total of all numbers below zero\n",
        "  # Subtract the two integers\n",
        "\n",
        "  total = sum([sum(matrix[i]) for i in range(len(matrix))])\n",
        "  to_sub = []\n",
        "\n",
        "  for i,row in enumerate(matrix):\n",
        "    for j,el in enumerate(row):\n",
        "      if el==0 and i+1<(len(matrix)):\n",
        "          to_sub.append(matrix[i+1][j])\n",
        "\n",
        "  total_sub = sum(to_sub)\n",
        "\n",
        "  return total - total_sub\n",
        "\n",
        "\n",
        "# matrix=[[1,1,1,0], \n",
        "#         [0,5,0,1], \n",
        "#         [2,1,3,10]]\n",
        "\n",
        "matrix = [[0, 1, 1, 2], \n",
        "          [0, 5, 0, 0], \n",
        "          [2, 0, 3, 3]]\n",
        "\n",
        "solution(matrix)"
      ]
    },
    {
      "cell_type": "code",
      "source": [
        "def solution(matrix):\n",
        "\n",
        "  # Find the total of all numbers\n",
        "  # Find the total of all numbers below zero\n",
        "  # Subtract the two integers\n",
        "\n",
        "  # problem with above solution is that, it only appends the number immedietly below 0, as opposed to all numbers below 0\n",
        "\n",
        "  total = sum([sum(matrix[i]) for i in range(len(matrix))])\n",
        "  to_sub = []\n",
        "\n",
        "  for i,row in enumerate(matrix):\n",
        "    for j,el in enumerate(row):\n",
        "      if el==0 and i+1<(len(matrix)):\n",
        "        for k in range(len(matrix[i+1:])):\n",
        "          to_sub.append(matrix[i+1:][k][j])\n",
        "\n",
        "  total_sub = sum(to_sub)\n",
        "  \n",
        "  print(total,to_sub)\n",
        "\n",
        "  return total - total_sub\n",
        "\n",
        "# matrix=[[1,1,1,0], \n",
        "#         [0,5,0,1], \n",
        "#         [2,1,3,10]]\n",
        "\n",
        "matrix = [[0, 1, 1, 2], \n",
        "          [0, 5, 0, 0], \n",
        "          [2, 0, 3, 3]]\n",
        "\n",
        "solution(matrix)"
      ],
      "metadata": {
        "colab": {
          "base_uri": "https://localhost:8080/"
        },
        "id": "hZw-7kYa3Csk",
        "outputId": "f7bea16e-13ff-4ea9-f2d0-392db9d6eb98"
      },
      "execution_count": 58,
      "outputs": [
        {
          "output_type": "stream",
          "name": "stdout",
          "text": [
            "17 [0, 2, 2, 3, 3]\n"
          ]
        },
        {
          "output_type": "execute_result",
          "data": {
            "text/plain": [
              "7"
            ]
          },
          "metadata": {},
          "execution_count": 58
        }
      ]
    },
    {
      "cell_type": "code",
      "source": [
        "def solution(matrix):\n",
        "\n",
        "  # Find the total of all numbers\n",
        "  # Find the total of all numbers below zero\n",
        "  # Subtract the two integers\n",
        "\n",
        "  # problem with above solution is that, if there is a 0 below a 0, then the same number is subtracted twice\n",
        "\n",
        "\n",
        "  total = sum([sum(matrix[i]) for i in range(len(matrix))])\n",
        "  to_sub = []\n",
        "\n",
        "  for i,row in enumerate(matrix):\n",
        "    for j,el in enumerate(row):\n",
        "      if el==0 and i+1<(len(matrix)):\n",
        "\n",
        "        if matrix[i+1][j] != 0:\n",
        "          for k in range(len(matrix[i+1:])):\n",
        "            to_sub.append(matrix[i+1:][k][j])\n",
        "\n",
        "  total_sub = sum(to_sub)\n",
        "\n",
        "  return total - total_sub\n",
        "\n",
        "# matrix=[[1,1,1,0], \n",
        "#         [0,5,0,1], \n",
        "#         [2,1,3,10]]\n",
        "\n",
        "matrix = [[0, 1, 1, 2], \n",
        "          [0, 5, 0, 0], \n",
        "          [2, 0, 3, 3]]\n",
        "\n",
        "solution(matrix)"
      ],
      "metadata": {
        "colab": {
          "base_uri": "https://localhost:8080/"
        },
        "id": "EvH48P233kv5",
        "outputId": "8a353125-99f9-4580-f589-ffe209e7e546"
      },
      "execution_count": 59,
      "outputs": [
        {
          "output_type": "stream",
          "name": "stdout",
          "text": [
            "17 [2, 3, 3]\n"
          ]
        },
        {
          "output_type": "execute_result",
          "data": {
            "text/plain": [
              "9"
            ]
          },
          "metadata": {},
          "execution_count": 59
        }
      ]
    },
    {
      "cell_type": "code",
      "source": [],
      "metadata": {
        "id": "T5fwoaWo95M_"
      },
      "execution_count": null,
      "outputs": []
    }
  ]
}